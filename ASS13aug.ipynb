{
 "cells": [
  {
   "cell_type": "code",
   "execution_count": null,
   "id": "2f1b9c99-9772-46e6-a281-ec82f9f63147",
   "metadata": {},
   "outputs": [],
   "source": [
    "  product info\n",
    "Pr-Id Product\n",
    " 1001 Blog\n",
    " 1002 Youtube\n",
    " 1003 Education \n",
    "\n",
    " product info likes\n",
    "\n",
    "User-Id Pr-Id Liked-date\n",
    " 1       1001  19/08/2023\n",
    " 2       1003  18/01/2023\n",
    "  \n",
    "query to return Pr-Id of the product info that have  0 likes."
   ]
  },
  {
   "cell_type": "code",
   "execution_count": null,
   "id": "e843d5bf-5462-4688-9469-29d1e6d1e9f1",
   "metadata": {},
   "outputs": [],
   "source": [
    "\n",
    "create database ass_mysql;\n",
    "\n",
    "show tables;\n",
    "drop table city;\n",
    "show tables;\n",
    "drop table city_table_sheet1;\n",
    "\n",
    "CREATE TABLE product_info (\n",
    "    Pr_Id INT,\n",
    "    Product VARCHAR(50),\n",
    "    PRIMARY KEY (Pr_Id)\n",
    ");\n",
    "\n",
    "\n",
    "\n",
    "INSERT INTO product_info (Pr_Id, Product)\n",
    "VALUES\n",
    "    (1001, 'Blog'),\n",
    "    (1002, 'Youtube'),\n",
    "    (1003, 'Education');\n",
    "\n",
    "CREATE TABLE product_info_likes (\n",
    "    `User_Id` INT,\n",
    "    `Pr_Id` INT,\n",
    "    `Liked_date` DATE,\n",
    "    PRIMARY KEY (`User_Id`, `Pr_Id`)\n",
    ");\n",
    "\n",
    "\n",
    "INSERT INTO product_info_likes (`User_Id`, `Pr_Id`, `Liked_date`)\n",
    "VALUES\n",
    "    (1, 1001, '2023-08-19'),\n",
    "    (2, 1003, '2023-01-18');\n",
    "    \n",
    "    \n",
    "SELECT pi.Pr_Id\n",
    "FROM product_info as pi\n",
    "LEFT JOIN product_info_likes as pl ON pi.Pr_Id = pl.Pr_Id\n",
    "WHERE pl.User_Id IS NULL;\n",
    "\n",
    "\n",
    "\n",
    "\n",
    "\n",
    "\n",
    "s\n"
   ]
  }
 ],
 "metadata": {
  "kernelspec": {
   "display_name": "Python 3 (ipykernel)",
   "language": "python",
   "name": "python3"
  },
  "language_info": {
   "codemirror_mode": {
    "name": "ipython",
    "version": 3
   },
   "file_extension": ".py",
   "mimetype": "text/x-python",
   "name": "python",
   "nbconvert_exporter": "python",
   "pygments_lexer": "ipython3",
   "version": "3.10.6"
  }
 },
 "nbformat": 4,
 "nbformat_minor": 5
}
